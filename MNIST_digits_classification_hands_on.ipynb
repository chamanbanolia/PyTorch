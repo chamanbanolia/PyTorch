{
 "cells": [
  {
   "cell_type": "markdown",
   "metadata": {},
   "source": [
    "### Welocome to your first hands-on on PyTorch\n",
    "#### In this hands-on you will be building a feed forward network using PyTorch to identify digits from the image.\n",
    "#### Follow the instructions provided for each cell and code accordingly\n",
    "#### Once you write the code in each cell make sure you run the cell by hitting **shift + enter**"
   ]
  },
  {
   "cell_type": "markdown",
   "metadata": {},
   "source": [
    "### Make sure to run the below two cells "
   ]
  },
  {
   "cell_type": "code",
   "execution_count": 1,
   "metadata": {},
   "outputs": [
    {
     "name": "stdout",
     "output_type": "stream",
     "text": [
      "--2023-02-21 17:06:33--  http://www.di.ens.fr/~lelarge/MNIST.tar.gz\n",
      "Resolving www.di.ens.fr (www.di.ens.fr)... 129.199.99.14\n",
      "Connecting to www.di.ens.fr (www.di.ens.fr)|129.199.99.14|:80... connected.\n",
      "HTTP request sent, awaiting response... 302 Found\n",
      "Location: https://www.di.ens.fr/~lelarge/MNIST.tar.gz [following]\n",
      "--2023-02-21 17:06:33--  https://www.di.ens.fr/~lelarge/MNIST.tar.gz\n",
      "Connecting to www.di.ens.fr (www.di.ens.fr)|129.199.99.14|:443... connected.\n",
      "HTTP request sent, awaiting response... 200 OK\n",
      "Length: unspecified [application/x-gzip]\n",
      "Saving to: ‘MNIST.tar.gz.1’\n",
      "\n",
      "MNIST.tar.gz.1          [              <=>   ]  33.20M  10.9MB/s    in 3.1s    \n",
      "\n",
      "2023-02-21 17:06:37 (10.9 MB/s) - ‘MNIST.tar.gz.1’ saved [34813078]\n",
      "\n"
     ]
    }
   ],
   "source": [
    "!wget www.di.ens.fr/~lelarge/MNIST.tar.gz"
   ]
  },
  {
   "cell_type": "code",
   "execution_count": 2,
   "metadata": {},
   "outputs": [
    {
     "name": "stdout",
     "output_type": "stream",
     "text": [
      "MNIST/\n",
      "MNIST/raw/\n",
      "MNIST/raw/train-labels-idx1-ubyte\n",
      "MNIST/raw/t10k-labels-idx1-ubyte.gz\n",
      "MNIST/raw/t10k-labels-idx1-ubyte\n",
      "MNIST/raw/t10k-images-idx3-ubyte.gz\n",
      "MNIST/raw/train-images-idx3-ubyte\n",
      "MNIST/raw/train-labels-idx1-ubyte.gz\n",
      "MNIST/raw/t10k-images-idx3-ubyte\n",
      "MNIST/raw/train-images-idx3-ubyte.gz\n",
      "MNIST/processed/\n",
      "MNIST/processed/training.pt\n",
      "MNIST/processed/test.pt\n"
     ]
    }
   ],
   "source": [
    "!tar -zxvf MNIST.tar.gz"
   ]
  },
  {
   "cell_type": "markdown",
   "metadata": {},
   "source": [
    "### Task 1: Download the dataset\n",
    "- use **MNIST** from **torchvision.datasets** to download the MNIST digits dataset. Make sure the downladed tensors are tansormed to Tensors.\n",
    "- Genearte train and test loaders of batch size 64 and assign it to variables **trainloader** and **testloader** respectively.\n",
    "\n",
    "#### Expected output:\n",
    "    dimension of first batch of trainloader: torch.Size([64, 1, 28, 28])"
   ]
  },
  {
   "cell_type": "code",
   "execution_count": 3,
   "metadata": {},
   "outputs": [
    {
     "name": "stdout",
     "output_type": "stream",
     "text": [
      "dimension of first batch of trainloader: torch.Size([64, 1, 28, 28])\n"
     ]
    }
   ],
   "source": [
    "import torch\n",
    "from torch import nn\n",
    "from torchvision.datasets import MNIST\n",
    "from torchvision import transforms\n",
    "from torch import optim\n",
    "import helper\n",
    "\n",
    "\n",
    "# Download and load the training data\n",
    "trainset = MNIST(root='./data',  train=True, transform=transforms.ToTensor(), download=True)             ###download trainset\n",
    "testset = MNIST(root='./data',  train=False, transform=transforms.ToTensor(), download=True)              ###download testset\n",
    "trainloader = torch.utils.data.DataLoader(trainset, batch_size=64, shuffle=True)\n",
    "testloader = torch.utils.data.DataLoader(testset, batch_size=64, shuffle=True)\n",
    "\n",
    "\n",
    "image, labels = next(iter(trainloader))\n",
    "print(\"dimension of first batch of trainloader:\", image.shape)"
   ]
  },
  {
   "cell_type": "markdown",
   "metadata": {},
   "source": [
    "### Task 2\n",
    "- define the method named model_buid() to build a sequential model.\n",
    "  - parameters: \n",
    "       - **input_size** int: number of input features  \n",
    "       - **hidden_sizes** array of size 3: array of number of nodes in each of the three hidden layers  \n",
    "       - **output int**: number of nodes at output layer (or number of classes to classify)  \n",
    "  - returns model: sequential model  \n",
    "Apply relu activation between each layer and for the **final layer out apply logSoftmax.**  \n",
    "Logsoftmax log transformation of softmax output which is given by :$$\n",
    " \\sigma(x_i) =  \\log \\cfrac{e^{x_i}}{\\sum_{k=1}^{N}{e^{x_k}}}$$ where N is the number of classes  \n",
    " more information [here](https://pytorch.org/docs/stable/nn.html#torch.nn.LogSoftmax) \n",
    "  - using the function you defined, **initilize the model to have input size 784, three hidden layers to have 256, 128 and 64 nodes and finally an output layer of size 10 nodes.**\n",
    "  \n",
    "#### Expected output:  \n",
    "Sequential(  \n",
    "  (0): Linear(in_features=784, out_features=256, bias=True)  \n",
    "  (1): ReLU()  \n",
    "  (2): Linear(in_features=256, out_features=128, bias=True)  \n",
    "  (3): ReLU()  \n",
    "  (4): Linear(in_features=128, out_features=64, bias=True)  \n",
    "  (5): ReLU()  \n",
    "  (6): Linear(in_features=64, out_features=10, bias=True)  \n",
    "  (7): LogSoftmax()  \n",
    ")  \n"
   ]
  },
  {
   "cell_type": "code",
   "execution_count": 4,
   "metadata": {},
   "outputs": [
    {
     "name": "stdout",
     "output_type": "stream",
     "text": [
      "Sequential(\n",
      "  (0): Linear(in_features=784, out_features=256, bias=True)\n",
      "  (1): ReLU()\n",
      "  (2): Linear(in_features=256, out_features=128, bias=True)\n",
      "  (3): ReLU()\n",
      "  (4): Linear(in_features=128, out_features=64, bias=True)\n",
      "  (5): ReLU()\n",
      "  (6): Linear(in_features=64, out_features=10, bias=True)\n",
      "  (7): LogSoftmax()\n",
      ")\n"
     ]
    }
   ],
   "source": [
    "torch.manual_seed(999)\n",
    "input_size = 784\n",
    "hidden_sizes = [256,128, 64]\n",
    "output_size = 10\n",
    "\n",
    "# Build a feed-forward network\n",
    "def build_model(input_size, hidden_sizes, output_size):\n",
    "    ####Start code here\n",
    "    \n",
    "    #model = Network(input_size, hidden_sizes, output_size)\n",
    "    model = nn.Sequential(nn.Linear(input_size, hidden_sizes[0]),  \n",
    "                   nn.ReLU(),\n",
    "                   nn.Linear(hidden_sizes[0], hidden_sizes[1]),\n",
    "                   nn.ReLU(),\n",
    "                   nn.Linear(hidden_sizes[1], hidden_sizes[2]),\n",
    "                   nn.ReLU(),\n",
    "                   nn.Linear(hidden_sizes[2], output_size),\n",
    "                   nn.LogSoftmax(dim=1)\n",
    "                   )\n",
    "    #### End code\n",
    "    return model\n",
    "\n",
    "classifier = build_model(input_size, hidden_sizes, output_size)\n",
    "print(classifier)"
   ]
  },
  {
   "cell_type": "markdown",
   "metadata": {},
   "source": [
    "### Task 3 : Perform forward pass on single image\n",
    "- get the images and labels from first batch of trainloader\n",
    "- sample the first image from the batch and flatten the image tensor from (1 x 28 x 28) to (1, 784)\n",
    "- using the model you defined in the previous cell perfrom a forward pass on the flattened image and save the network output to variable **log_ps**\n",
    "- transform log transformed softmax output log_ps to exponential and assign it to ps (hint use torch.exp())\n",
    "- return the top probability and its index from  **ps** (hint: use ps.topk())  \n",
    "Since the model is not trained, yet the output class probabilities are uniform.\n"
   ]
  },
  {
   "cell_type": "code",
   "execution_count": 5,
   "metadata": {},
   "outputs": [
    {
     "name": "stdout",
     "output_type": "stream",
     "text": [
      "tensor([[0.0959, 0.0976, 0.0963, 0.1030, 0.0904, 0.1082, 0.0989, 0.1100, 0.0972,\n",
      "         0.1026]])\n"
     ]
    },
    {
     "data": {
      "image/png": "[encoded data removed]",
      "text/plain": [
       "<Figure size 432x648 with 2 Axes>"
      ]
     },
     "metadata": {
      "needs_background": "light"
     },
     "output_type": "display_data"
    }
   ],
   "source": [
    "torch.manual_seed(999)\n",
    "####Start code here\n",
    "images, labels = iter(trainloader).next()\n",
    "#print(images.size(), labels.size())\n",
    "image = images[0,:,:,:]                   ###sample first image from images\n",
    "image = image.resize_(1,784)                  ###flatten the image\n",
    "\n",
    "with torch.no_grad():\n",
    "    log_ps = classifier.forward(image)\n",
    "ps = torch.exp(log_ps)\n",
    "print(ps)\n",
    "top_p, top_class = torch.topk(ps,1)\n",
    "###End code\n",
    "\n",
    "helper.view_classify(image.view(1,28,28), ps)\n",
    "prob = top_p.item()"
   ]
  },
  {
   "cell_type": "markdown",
   "metadata": {},
   "source": [
    "### Task 4   Define criterain (loss function) and optimizer\n",
    "  - Define criterian to be [negetive likelihood loss](https://pytorch.org/docs/stable/nn.html#torch.nn.NLLLoss) since the network output is log transformed probabilities. (hint: use nn.NLLLoss())\n",
    "  - Define optimizer to be [Adam](https://pytorch.org/docs/stable/optim.html#torch.optim.Adam) and set learning rate to 0.003 and pass the parameters of **classifier** model (hint: use optim.Adam())"
   ]
  },
  {
   "cell_type": "code",
   "execution_count": 6,
   "metadata": {},
   "outputs": [],
   "source": [
    "####Start code here\n",
    "criterion = nn.NLLLoss()\n",
    "optimizer = torch.optim.Adam(params = classifier.parameters(), lr=0.003)\n",
    "####End code"
   ]
  },
  {
   "cell_type": "markdown",
   "metadata": {},
   "source": [
    "### Task 5 Train the classifier"
   ]
  },
  {
   "cell_type": "code",
   "execution_count": 8,
   "metadata": {},
   "outputs": [
    {
     "name": "stdout",
     "output_type": "stream",
     "text": [
      "Epoch: 1/5..  Training Loss: 0.107..  Test Loss: 0.145..  Test Accuracy: 0.961\n",
      "Epoch: 2/5..  Training Loss: 0.080..  Test Loss: 0.093..  Test Accuracy: 0.974\n",
      "Epoch: 3/5..  Training Loss: 0.063..  Test Loss: 0.083..  Test Accuracy: 0.974\n",
      "Epoch: 4/5..  Training Loss: 0.052..  Test Loss: 0.090..  Test Accuracy: 0.977\n",
      "Epoch: 5/5..  Training Loss: 0.047..  Test Loss: 0.092..  Test Accuracy: 0.976\n",
      "After training\n"
     ]
    },
    {
     "data": {
      "image/png": "[encoded data removed]",
      "text/plain": [
       "<Figure size 432x648 with 2 Axes>"
      ]
     },
     "metadata": {
      "needs_background": "light"
     },
     "output_type": "display_data"
    }
   ],
   "source": [
    "torch.manual_seed(999)\n",
    "\n",
    "epochs = 5\n",
    "steps = 0\n",
    "\n",
    "\n",
    "for e in range(epochs):\n",
    "    \n",
    "    ###Initializing loss\n",
    "    running_loss = 0\n",
    "    for images, labels in trainloader:\n",
    "        ###Start code here\n",
    "        images = images.view(images.shape[0], -1)   ###flatten the images\n",
    "        optimizer.zero_grad()   \n",
    "        \n",
    "        output = classifier.forward(images)         ###perform forward pass\n",
    "        loss = criterion(output, labels)            ### comput loss using the criterion by passing log_ps and labels\n",
    "        loss.backward()                             #### call .backward() on loss\n",
    "        optimizer.step()                            #### update parameters using .step() on optimizer\n",
    "        \n",
    "        \n",
    "        ###End code\n",
    "        \n",
    "        running_loss += loss.item()\n",
    "        \n",
    "        \n",
    "    else:\n",
    "         # Compute loss on test set for each batch of training\n",
    "        ###Initializing train loss and test loss\n",
    "        test_loss = 0\n",
    "        accuracy = 0\n",
    "        \n",
    "        \n",
    "        with torch.no_grad():\n",
    "            for images, labels in testloader:\n",
    "                ###Start code here\n",
    "                images = images.view(images.shape[0], -1)      ### flatten images\n",
    "                log_ps = classifier.forward(images)            ###perform forward pass\n",
    "                test_loss += criterion(log_ps, labels)         ### update the test loss    \n",
    "                             \n",
    "                ps = torch.exp(log_ps)                         ### transform log_ps to exponential          \n",
    "                top_p, top_class = torch.topk(ps,1)            ### get the top class for each sample\n",
    "                ####End code\n",
    "                \n",
    "                equals = top_class == labels.view(*top_class.shape)\n",
    "                accuracy += torch.mean(equals.type(torch.FloatTensor))\n",
    "\n",
    "        \n",
    "\n",
    "        print(\"Epoch: {}/{}.. \".format(e+1, epochs),\n",
    "              \"Training Loss: {:.3f}.. \".format(running_loss/len(trainloader)),\n",
    "              \"Test Loss: {:.3f}.. \".format(test_loss/len(testloader)),\n",
    "              \"Test Accuracy: {:.3f}\".format(accuracy/len(testloader)))\n",
    "print(\"After training\")\n",
    "helper.view_classify(images[0].view(1,28,28), ps[0])\n",
    "with open(\"output.txt\", \"w\") as file:\n",
    "    file.write(\"{:.2f}\".format(prob)+\"\\n\")\n",
    "    file.write((\"{:.2f}\".format(running_loss)))"
   ]
  },
  {
   "cell_type": "code",
   "execution_count": null,
   "metadata": {},
   "outputs": [],
   "source": []
  }
 ],
 "metadata": {
  "kernelspec": {
   "display_name": "Python 3",
   "language": "python",
   "name": "python3"
  },
  "language_info": {
   "codemirror_mode": {
    "name": "ipython",
    "version": 3
   },
   "file_extension": ".py",
   "mimetype": "text/x-python",
   "name": "python",
   "nbconvert_exporter": "python",
   "pygments_lexer": "ipython3",
   "version": "3.5.2"
  }
 },
 "nbformat": 4,
 "nbformat_minor": 2
}
